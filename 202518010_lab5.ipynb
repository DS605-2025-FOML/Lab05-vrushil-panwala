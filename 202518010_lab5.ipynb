{
  "nbformat": 4,
  "nbformat_minor": 0,
  "metadata": {
    "colab": {
      "provenance": []
    },
    "kernelspec": {
      "name": "python3",
      "display_name": "Python 3"
    },
    "language_info": {
      "name": "python"
    }
  },
  "cells": [
    {
      "cell_type": "code",
      "execution_count": 2,
      "metadata": {
        "id": "yw3MoKzfu8q2"
      },
      "outputs": [],
      "source": [
        "import pandas as pd\n",
        "import numpy as np\n",
        "import matplotlib.pyplot as plt\n",
        "import seaborn as sns"
      ]
    },
    {
      "cell_type": "code",
      "source": [
        "df = pd.read_csv(\"/content/telecom_churn (1).csv\")"
      ],
      "metadata": {
        "id": "6VSHUOw6vRls"
      },
      "execution_count": 3,
      "outputs": []
    },
    {
      "cell_type": "code",
      "source": [
        "df.isna().sum()"
      ],
      "metadata": {
        "colab": {
          "base_uri": "https://localhost:8080/",
          "height": 460
        },
        "id": "TEj-PajIvbbi",
        "outputId": "b4b47021-6e0d-4ded-d678-593c827a5c3a"
      },
      "execution_count": 4,
      "outputs": [
        {
          "output_type": "execute_result",
          "data": {
            "text/plain": [
              "CustomerID             0\n",
              "Gender             18213\n",
              "SeniorCitizen      18139\n",
              "Partner            18006\n",
              "Dependents         17997\n",
              "Tenure             17999\n",
              "PhoneService       17904\n",
              "InternetService    18421\n",
              "MonthlyCharges     18096\n",
              "TotalCharges       19743\n",
              "Churn                  0\n",
              "Timestamp          18243\n",
              "dtype: int64"
            ],
            "text/html": [
              "<div>\n",
              "<style scoped>\n",
              "    .dataframe tbody tr th:only-of-type {\n",
              "        vertical-align: middle;\n",
              "    }\n",
              "\n",
              "    .dataframe tbody tr th {\n",
              "        vertical-align: top;\n",
              "    }\n",
              "\n",
              "    .dataframe thead th {\n",
              "        text-align: right;\n",
              "    }\n",
              "</style>\n",
              "<table border=\"1\" class=\"dataframe\">\n",
              "  <thead>\n",
              "    <tr style=\"text-align: right;\">\n",
              "      <th></th>\n",
              "      <th>0</th>\n",
              "    </tr>\n",
              "  </thead>\n",
              "  <tbody>\n",
              "    <tr>\n",
              "      <th>CustomerID</th>\n",
              "      <td>0</td>\n",
              "    </tr>\n",
              "    <tr>\n",
              "      <th>Gender</th>\n",
              "      <td>18213</td>\n",
              "    </tr>\n",
              "    <tr>\n",
              "      <th>SeniorCitizen</th>\n",
              "      <td>18139</td>\n",
              "    </tr>\n",
              "    <tr>\n",
              "      <th>Partner</th>\n",
              "      <td>18006</td>\n",
              "    </tr>\n",
              "    <tr>\n",
              "      <th>Dependents</th>\n",
              "      <td>17997</td>\n",
              "    </tr>\n",
              "    <tr>\n",
              "      <th>Tenure</th>\n",
              "      <td>17999</td>\n",
              "    </tr>\n",
              "    <tr>\n",
              "      <th>PhoneService</th>\n",
              "      <td>17904</td>\n",
              "    </tr>\n",
              "    <tr>\n",
              "      <th>InternetService</th>\n",
              "      <td>18421</td>\n",
              "    </tr>\n",
              "    <tr>\n",
              "      <th>MonthlyCharges</th>\n",
              "      <td>18096</td>\n",
              "    </tr>\n",
              "    <tr>\n",
              "      <th>TotalCharges</th>\n",
              "      <td>19743</td>\n",
              "    </tr>\n",
              "    <tr>\n",
              "      <th>Churn</th>\n",
              "      <td>0</td>\n",
              "    </tr>\n",
              "    <tr>\n",
              "      <th>Timestamp</th>\n",
              "      <td>18243</td>\n",
              "    </tr>\n",
              "  </tbody>\n",
              "</table>\n",
              "</div><br><label><b>dtype:</b> int64</label>"
            ]
          },
          "metadata": {},
          "execution_count": 4
        }
      ]
    },
    {
      "cell_type": "code",
      "source": [
        "print(df.shape)\n",
        "print(df.info())\n",
        "df.head()"
      ],
      "metadata": {
        "colab": {
          "base_uri": "https://localhost:8080/",
          "height": 677
        },
        "id": "TnxxQgESvg4C",
        "outputId": "d43d3f7a-48dd-4fa1-db9c-247d931f1dd1"
      },
      "execution_count": 5,
      "outputs": [
        {
          "output_type": "stream",
          "name": "stdout",
          "text": [
            "(100000, 12)\n",
            "<class 'pandas.core.frame.DataFrame'>\n",
            "RangeIndex: 100000 entries, 0 to 99999\n",
            "Data columns (total 12 columns):\n",
            " #   Column           Non-Null Count   Dtype  \n",
            "---  ------           --------------   -----  \n",
            " 0   CustomerID       100000 non-null  object \n",
            " 1   Gender           81787 non-null   object \n",
            " 2   SeniorCitizen    81861 non-null   float64\n",
            " 3   Partner          81994 non-null   object \n",
            " 4   Dependents       82003 non-null   object \n",
            " 5   Tenure           82001 non-null   float64\n",
            " 6   PhoneService     82096 non-null   object \n",
            " 7   InternetService  81579 non-null   object \n",
            " 8   MonthlyCharges   81904 non-null   float64\n",
            " 9   TotalCharges     80257 non-null   object \n",
            " 10  Churn            100000 non-null  object \n",
            " 11  Timestamp        81757 non-null   object \n",
            "dtypes: float64(3), object(9)\n",
            "memory usage: 9.2+ MB\n",
            "None\n"
          ]
        },
        {
          "output_type": "execute_result",
          "data": {
            "text/plain": [
              "   CustomerID  Gender  SeniorCitizen Partner Dependents  Tenure PhoneService  \\\n",
              "0  CUST000001    Male            0.0     Yes        Yes    26.0          Yes   \n",
              "1  CUST000002  Female            0.0      No         No     NaN          Yes   \n",
              "2  CUST000003    Male            0.0      No        Yes     NaN          Yes   \n",
              "3  CUST000004    Male            NaN      No         No    44.0          Yes   \n",
              "4  CUST000005     NaN            0.0      No        Yes    29.0          NaN   \n",
              "\n",
              "  InternetService  MonthlyCharges TotalCharges Churn   Timestamp  \n",
              "0     Fiber optic           70.32          NaN    No  2021-10-26  \n",
              "1     Fiber optic           47.88      2161.36   Yes  2022-04-03  \n",
              "2             NaN           99.91      4224.95   Yes  2021-05-03  \n",
              "3             DSL           29.44      1340.09    No  2021-08-18  \n",
              "4     Fiber optic           78.82      2280.05    No  2022-02-17  "
            ],
            "text/html": [
              "\n",
              "  <div id=\"df-0903f9c5-2b9a-4fd8-ae93-6d287845b314\" class=\"colab-df-container\">\n",
              "    <div>\n",
              "<style scoped>\n",
              "    .dataframe tbody tr th:only-of-type {\n",
              "        vertical-align: middle;\n",
              "    }\n",
              "\n",
              "    .dataframe tbody tr th {\n",
              "        vertical-align: top;\n",
              "    }\n",
              "\n",
              "    .dataframe thead th {\n",
              "        text-align: right;\n",
              "    }\n",
              "</style>\n",
              "<table border=\"1\" class=\"dataframe\">\n",
              "  <thead>\n",
              "    <tr style=\"text-align: right;\">\n",
              "      <th></th>\n",
              "      <th>CustomerID</th>\n",
              "      <th>Gender</th>\n",
              "      <th>SeniorCitizen</th>\n",
              "      <th>Partner</th>\n",
              "      <th>Dependents</th>\n",
              "      <th>Tenure</th>\n",
              "      <th>PhoneService</th>\n",
              "      <th>InternetService</th>\n",
              "      <th>MonthlyCharges</th>\n",
              "      <th>TotalCharges</th>\n",
              "      <th>Churn</th>\n",
              "      <th>Timestamp</th>\n",
              "    </tr>\n",
              "  </thead>\n",
              "  <tbody>\n",
              "    <tr>\n",
              "      <th>0</th>\n",
              "      <td>CUST000001</td>\n",
              "      <td>Male</td>\n",
              "      <td>0.0</td>\n",
              "      <td>Yes</td>\n",
              "      <td>Yes</td>\n",
              "      <td>26.0</td>\n",
              "      <td>Yes</td>\n",
              "      <td>Fiber optic</td>\n",
              "      <td>70.32</td>\n",
              "      <td>NaN</td>\n",
              "      <td>No</td>\n",
              "      <td>2021-10-26</td>\n",
              "    </tr>\n",
              "    <tr>\n",
              "      <th>1</th>\n",
              "      <td>CUST000002</td>\n",
              "      <td>Female</td>\n",
              "      <td>0.0</td>\n",
              "      <td>No</td>\n",
              "      <td>No</td>\n",
              "      <td>NaN</td>\n",
              "      <td>Yes</td>\n",
              "      <td>Fiber optic</td>\n",
              "      <td>47.88</td>\n",
              "      <td>2161.36</td>\n",
              "      <td>Yes</td>\n",
              "      <td>2022-04-03</td>\n",
              "    </tr>\n",
              "    <tr>\n",
              "      <th>2</th>\n",
              "      <td>CUST000003</td>\n",
              "      <td>Male</td>\n",
              "      <td>0.0</td>\n",
              "      <td>No</td>\n",
              "      <td>Yes</td>\n",
              "      <td>NaN</td>\n",
              "      <td>Yes</td>\n",
              "      <td>NaN</td>\n",
              "      <td>99.91</td>\n",
              "      <td>4224.95</td>\n",
              "      <td>Yes</td>\n",
              "      <td>2021-05-03</td>\n",
              "    </tr>\n",
              "    <tr>\n",
              "      <th>3</th>\n",
              "      <td>CUST000004</td>\n",
              "      <td>Male</td>\n",
              "      <td>NaN</td>\n",
              "      <td>No</td>\n",
              "      <td>No</td>\n",
              "      <td>44.0</td>\n",
              "      <td>Yes</td>\n",
              "      <td>DSL</td>\n",
              "      <td>29.44</td>\n",
              "      <td>1340.09</td>\n",
              "      <td>No</td>\n",
              "      <td>2021-08-18</td>\n",
              "    </tr>\n",
              "    <tr>\n",
              "      <th>4</th>\n",
              "      <td>CUST000005</td>\n",
              "      <td>NaN</td>\n",
              "      <td>0.0</td>\n",
              "      <td>No</td>\n",
              "      <td>Yes</td>\n",
              "      <td>29.0</td>\n",
              "      <td>NaN</td>\n",
              "      <td>Fiber optic</td>\n",
              "      <td>78.82</td>\n",
              "      <td>2280.05</td>\n",
              "      <td>No</td>\n",
              "      <td>2022-02-17</td>\n",
              "    </tr>\n",
              "  </tbody>\n",
              "</table>\n",
              "</div>\n",
              "    <div class=\"colab-df-buttons\">\n",
              "\n",
              "  <div class=\"colab-df-container\">\n",
              "    <button class=\"colab-df-convert\" onclick=\"convertToInteractive('df-0903f9c5-2b9a-4fd8-ae93-6d287845b314')\"\n",
              "            title=\"Convert this dataframe to an interactive table.\"\n",
              "            style=\"display:none;\">\n",
              "\n",
              "  <svg xmlns=\"http://www.w3.org/2000/svg\" height=\"24px\" viewBox=\"0 -960 960 960\">\n",
              "    <path d=\"M120-120v-720h720v720H120Zm60-500h600v-160H180v160Zm220 220h160v-160H400v160Zm0 220h160v-160H400v160ZM180-400h160v-160H180v160Zm440 0h160v-160H620v160ZM180-180h160v-160H180v160Zm440 0h160v-160H620v160Z\"/>\n",
              "  </svg>\n",
              "    </button>\n",
              "\n",
              "  <style>\n",
              "    .colab-df-container {\n",
              "      display:flex;\n",
              "      gap: 12px;\n",
              "    }\n",
              "\n",
              "    .colab-df-convert {\n",
              "      background-color: #E8F0FE;\n",
              "      border: none;\n",
              "      border-radius: 50%;\n",
              "      cursor: pointer;\n",
              "      display: none;\n",
              "      fill: #1967D2;\n",
              "      height: 32px;\n",
              "      padding: 0 0 0 0;\n",
              "      width: 32px;\n",
              "    }\n",
              "\n",
              "    .colab-df-convert:hover {\n",
              "      background-color: #E2EBFA;\n",
              "      box-shadow: 0px 1px 2px rgba(60, 64, 67, 0.3), 0px 1px 3px 1px rgba(60, 64, 67, 0.15);\n",
              "      fill: #174EA6;\n",
              "    }\n",
              "\n",
              "    .colab-df-buttons div {\n",
              "      margin-bottom: 4px;\n",
              "    }\n",
              "\n",
              "    [theme=dark] .colab-df-convert {\n",
              "      background-color: #3B4455;\n",
              "      fill: #D2E3FC;\n",
              "    }\n",
              "\n",
              "    [theme=dark] .colab-df-convert:hover {\n",
              "      background-color: #434B5C;\n",
              "      box-shadow: 0px 1px 3px 1px rgba(0, 0, 0, 0.15);\n",
              "      filter: drop-shadow(0px 1px 2px rgba(0, 0, 0, 0.3));\n",
              "      fill: #FFFFFF;\n",
              "    }\n",
              "  </style>\n",
              "\n",
              "    <script>\n",
              "      const buttonEl =\n",
              "        document.querySelector('#df-0903f9c5-2b9a-4fd8-ae93-6d287845b314 button.colab-df-convert');\n",
              "      buttonEl.style.display =\n",
              "        google.colab.kernel.accessAllowed ? 'block' : 'none';\n",
              "\n",
              "      async function convertToInteractive(key) {\n",
              "        const element = document.querySelector('#df-0903f9c5-2b9a-4fd8-ae93-6d287845b314');\n",
              "        const dataTable =\n",
              "          await google.colab.kernel.invokeFunction('convertToInteractive',\n",
              "                                                    [key], {});\n",
              "        if (!dataTable) return;\n",
              "\n",
              "        const docLinkHtml = 'Like what you see? Visit the ' +\n",
              "          '<a target=\"_blank\" href=https://colab.research.google.com/notebooks/data_table.ipynb>data table notebook</a>'\n",
              "          + ' to learn more about interactive tables.';\n",
              "        element.innerHTML = '';\n",
              "        dataTable['output_type'] = 'display_data';\n",
              "        await google.colab.output.renderOutput(dataTable, element);\n",
              "        const docLink = document.createElement('div');\n",
              "        docLink.innerHTML = docLinkHtml;\n",
              "        element.appendChild(docLink);\n",
              "      }\n",
              "    </script>\n",
              "  </div>\n",
              "\n",
              "\n",
              "    <div id=\"df-5eb22498-4cb5-42c6-8bce-9974a669bca3\">\n",
              "      <button class=\"colab-df-quickchart\" onclick=\"quickchart('df-5eb22498-4cb5-42c6-8bce-9974a669bca3')\"\n",
              "                title=\"Suggest charts\"\n",
              "                style=\"display:none;\">\n",
              "\n",
              "<svg xmlns=\"http://www.w3.org/2000/svg\" height=\"24px\"viewBox=\"0 0 24 24\"\n",
              "     width=\"24px\">\n",
              "    <g>\n",
              "        <path d=\"M19 3H5c-1.1 0-2 .9-2 2v14c0 1.1.9 2 2 2h14c1.1 0 2-.9 2-2V5c0-1.1-.9-2-2-2zM9 17H7v-7h2v7zm4 0h-2V7h2v10zm4 0h-2v-4h2v4z\"/>\n",
              "    </g>\n",
              "</svg>\n",
              "      </button>\n",
              "\n",
              "<style>\n",
              "  .colab-df-quickchart {\n",
              "      --bg-color: #E8F0FE;\n",
              "      --fill-color: #1967D2;\n",
              "      --hover-bg-color: #E2EBFA;\n",
              "      --hover-fill-color: #174EA6;\n",
              "      --disabled-fill-color: #AAA;\n",
              "      --disabled-bg-color: #DDD;\n",
              "  }\n",
              "\n",
              "  [theme=dark] .colab-df-quickchart {\n",
              "      --bg-color: #3B4455;\n",
              "      --fill-color: #D2E3FC;\n",
              "      --hover-bg-color: #434B5C;\n",
              "      --hover-fill-color: #FFFFFF;\n",
              "      --disabled-bg-color: #3B4455;\n",
              "      --disabled-fill-color: #666;\n",
              "  }\n",
              "\n",
              "  .colab-df-quickchart {\n",
              "    background-color: var(--bg-color);\n",
              "    border: none;\n",
              "    border-radius: 50%;\n",
              "    cursor: pointer;\n",
              "    display: none;\n",
              "    fill: var(--fill-color);\n",
              "    height: 32px;\n",
              "    padding: 0;\n",
              "    width: 32px;\n",
              "  }\n",
              "\n",
              "  .colab-df-quickchart:hover {\n",
              "    background-color: var(--hover-bg-color);\n",
              "    box-shadow: 0 1px 2px rgba(60, 64, 67, 0.3), 0 1px 3px 1px rgba(60, 64, 67, 0.15);\n",
              "    fill: var(--button-hover-fill-color);\n",
              "  }\n",
              "\n",
              "  .colab-df-quickchart-complete:disabled,\n",
              "  .colab-df-quickchart-complete:disabled:hover {\n",
              "    background-color: var(--disabled-bg-color);\n",
              "    fill: var(--disabled-fill-color);\n",
              "    box-shadow: none;\n",
              "  }\n",
              "\n",
              "  .colab-df-spinner {\n",
              "    border: 2px solid var(--fill-color);\n",
              "    border-color: transparent;\n",
              "    border-bottom-color: var(--fill-color);\n",
              "    animation:\n",
              "      spin 1s steps(1) infinite;\n",
              "  }\n",
              "\n",
              "  @keyframes spin {\n",
              "    0% {\n",
              "      border-color: transparent;\n",
              "      border-bottom-color: var(--fill-color);\n",
              "      border-left-color: var(--fill-color);\n",
              "    }\n",
              "    20% {\n",
              "      border-color: transparent;\n",
              "      border-left-color: var(--fill-color);\n",
              "      border-top-color: var(--fill-color);\n",
              "    }\n",
              "    30% {\n",
              "      border-color: transparent;\n",
              "      border-left-color: var(--fill-color);\n",
              "      border-top-color: var(--fill-color);\n",
              "      border-right-color: var(--fill-color);\n",
              "    }\n",
              "    40% {\n",
              "      border-color: transparent;\n",
              "      border-right-color: var(--fill-color);\n",
              "      border-top-color: var(--fill-color);\n",
              "    }\n",
              "    60% {\n",
              "      border-color: transparent;\n",
              "      border-right-color: var(--fill-color);\n",
              "    }\n",
              "    80% {\n",
              "      border-color: transparent;\n",
              "      border-right-color: var(--fill-color);\n",
              "      border-bottom-color: var(--fill-color);\n",
              "    }\n",
              "    90% {\n",
              "      border-color: transparent;\n",
              "      border-bottom-color: var(--fill-color);\n",
              "    }\n",
              "  }\n",
              "</style>\n",
              "\n",
              "      <script>\n",
              "        async function quickchart(key) {\n",
              "          const quickchartButtonEl =\n",
              "            document.querySelector('#' + key + ' button');\n",
              "          quickchartButtonEl.disabled = true;  // To prevent multiple clicks.\n",
              "          quickchartButtonEl.classList.add('colab-df-spinner');\n",
              "          try {\n",
              "            const charts = await google.colab.kernel.invokeFunction(\n",
              "                'suggestCharts', [key], {});\n",
              "          } catch (error) {\n",
              "            console.error('Error during call to suggestCharts:', error);\n",
              "          }\n",
              "          quickchartButtonEl.classList.remove('colab-df-spinner');\n",
              "          quickchartButtonEl.classList.add('colab-df-quickchart-complete');\n",
              "        }\n",
              "        (() => {\n",
              "          let quickchartButtonEl =\n",
              "            document.querySelector('#df-5eb22498-4cb5-42c6-8bce-9974a669bca3 button');\n",
              "          quickchartButtonEl.style.display =\n",
              "            google.colab.kernel.accessAllowed ? 'block' : 'none';\n",
              "        })();\n",
              "      </script>\n",
              "    </div>\n",
              "\n",
              "    </div>\n",
              "  </div>\n"
            ],
            "application/vnd.google.colaboratory.intrinsic+json": {
              "type": "dataframe",
              "variable_name": "df",
              "summary": "{\n  \"name\": \"df\",\n  \"rows\": 100000,\n  \"fields\": [\n    {\n      \"column\": \"CustomerID\",\n      \"properties\": {\n        \"dtype\": \"string\",\n        \"num_unique_values\": 100000,\n        \"samples\": [\n          \"CUST075722\",\n          \"CUST080185\",\n          \"CUST019865\"\n        ],\n        \"semantic_type\": \"\",\n        \"description\": \"\"\n      }\n    },\n    {\n      \"column\": \"Gender\",\n      \"properties\": {\n        \"dtype\": \"category\",\n        \"num_unique_values\": 2,\n        \"samples\": [\n          \"Female\",\n          \"Male\"\n        ],\n        \"semantic_type\": \"\",\n        \"description\": \"\"\n      }\n    },\n    {\n      \"column\": \"SeniorCitizen\",\n      \"properties\": {\n        \"dtype\": \"number\",\n        \"std\": 0.3564600594704082,\n        \"min\": 0.0,\n        \"max\": 1.0,\n        \"num_unique_values\": 2,\n        \"samples\": [\n          1.0,\n          0.0\n        ],\n        \"semantic_type\": \"\",\n        \"description\": \"\"\n      }\n    },\n    {\n      \"column\": \"Partner\",\n      \"properties\": {\n        \"dtype\": \"category\",\n        \"num_unique_values\": 2,\n        \"samples\": [\n          \"No\",\n          \"Yes\"\n        ],\n        \"semantic_type\": \"\",\n        \"description\": \"\"\n      }\n    },\n    {\n      \"column\": \"Dependents\",\n      \"properties\": {\n        \"dtype\": \"category\",\n        \"num_unique_values\": 2,\n        \"samples\": [\n          \"No\",\n          \"Yes\"\n        ],\n        \"semantic_type\": \"\",\n        \"description\": \"\"\n      }\n    },\n    {\n      \"column\": \"Tenure\",\n      \"properties\": {\n        \"dtype\": \"number\",\n        \"std\": 20.97758122577493,\n        \"min\": 0.0,\n        \"max\": 72.0,\n        \"num_unique_values\": 73,\n        \"samples\": [\n          32.0,\n          58.0\n        ],\n        \"semantic_type\": \"\",\n        \"description\": \"\"\n      }\n    },\n    {\n      \"column\": \"PhoneService\",\n      \"properties\": {\n        \"dtype\": \"category\",\n        \"num_unique_values\": 2,\n        \"samples\": [\n          \"No\",\n          \"Yes\"\n        ],\n        \"semantic_type\": \"\",\n        \"description\": \"\"\n      }\n    },\n    {\n      \"column\": \"InternetService\",\n      \"properties\": {\n        \"dtype\": \"category\",\n        \"num_unique_values\": 3,\n        \"samples\": [\n          \"Fiber optic\",\n          \"DSL\"\n        ],\n        \"semantic_type\": \"\",\n        \"description\": \"\"\n      }\n    },\n    {\n      \"column\": \"MonthlyCharges\",\n      \"properties\": {\n        \"dtype\": \"number\",\n        \"std\": 29.438205834990267,\n        \"min\": 18.01,\n        \"max\": 120.0,\n        \"num_unique_values\": 10199,\n        \"samples\": [\n          115.75,\n          62.95\n        ],\n        \"semantic_type\": \"\",\n        \"description\": \"\"\n      }\n    },\n    {\n      \"column\": \"TotalCharges\",\n      \"properties\": {\n        \"dtype\": \"string\",\n        \"num_unique_values\": 74220,\n        \"samples\": [\n          \"3405.05\",\n          \"343.9\"\n        ],\n        \"semantic_type\": \"\",\n        \"description\": \"\"\n      }\n    },\n    {\n      \"column\": \"Churn\",\n      \"properties\": {\n        \"dtype\": \"category\",\n        \"num_unique_values\": 2,\n        \"samples\": [\n          \"Yes\",\n          \"No\"\n        ],\n        \"semantic_type\": \"\",\n        \"description\": \"\"\n      }\n    },\n    {\n      \"column\": \"Timestamp\",\n      \"properties\": {\n        \"dtype\": \"object\",\n        \"num_unique_values\": 1095,\n        \"samples\": [\n          \"2020-07-28\",\n          \"2022-01-23\"\n        ],\n        \"semantic_type\": \"\",\n        \"description\": \"\"\n      }\n    }\n  ]\n}"
            }
          },
          "metadata": {},
          "execution_count": 5
        }
      ]
    },
    {
      "cell_type": "markdown",
      "source": [
        "Total Charges is loaded as object due to non-numeric entries. We will convert it to numeric, coercing invalid values to Nan. Then we will check missing values for all columns."
      ],
      "metadata": {
        "id": "7cbgbfLWxHXa"
      }
    },
    {
      "cell_type": "code",
      "source": [
        "df['TotalCharges']=pd.to_numeric(df['TotalCharges'],errors='coerce')\n",
        "missing_summary=df.isnull().sum().sort_values(ascending=False)\n",
        "missing_summary=missing_summary[missing_summary>0]\n",
        "missing_summary"
      ],
      "metadata": {
        "colab": {
          "base_uri": "https://localhost:8080/",
          "height": 397
        },
        "id": "Qauspjvbxn9W",
        "outputId": "ce0e53ca-7b3b-486c-e134-1fb58d1055f9"
      },
      "execution_count": 6,
      "outputs": [
        {
          "output_type": "execute_result",
          "data": {
            "text/plain": [
              "TotalCharges       20591\n",
              "InternetService    18421\n",
              "Timestamp          18243\n",
              "Gender             18213\n",
              "SeniorCitizen      18139\n",
              "MonthlyCharges     18096\n",
              "Partner            18006\n",
              "Tenure             17999\n",
              "Dependents         17997\n",
              "PhoneService       17904\n",
              "dtype: int64"
            ],
            "text/html": [
              "<div>\n",
              "<style scoped>\n",
              "    .dataframe tbody tr th:only-of-type {\n",
              "        vertical-align: middle;\n",
              "    }\n",
              "\n",
              "    .dataframe tbody tr th {\n",
              "        vertical-align: top;\n",
              "    }\n",
              "\n",
              "    .dataframe thead th {\n",
              "        text-align: right;\n",
              "    }\n",
              "</style>\n",
              "<table border=\"1\" class=\"dataframe\">\n",
              "  <thead>\n",
              "    <tr style=\"text-align: right;\">\n",
              "      <th></th>\n",
              "      <th>0</th>\n",
              "    </tr>\n",
              "  </thead>\n",
              "  <tbody>\n",
              "    <tr>\n",
              "      <th>TotalCharges</th>\n",
              "      <td>20591</td>\n",
              "    </tr>\n",
              "    <tr>\n",
              "      <th>InternetService</th>\n",
              "      <td>18421</td>\n",
              "    </tr>\n",
              "    <tr>\n",
              "      <th>Timestamp</th>\n",
              "      <td>18243</td>\n",
              "    </tr>\n",
              "    <tr>\n",
              "      <th>Gender</th>\n",
              "      <td>18213</td>\n",
              "    </tr>\n",
              "    <tr>\n",
              "      <th>SeniorCitizen</th>\n",
              "      <td>18139</td>\n",
              "    </tr>\n",
              "    <tr>\n",
              "      <th>MonthlyCharges</th>\n",
              "      <td>18096</td>\n",
              "    </tr>\n",
              "    <tr>\n",
              "      <th>Partner</th>\n",
              "      <td>18006</td>\n",
              "    </tr>\n",
              "    <tr>\n",
              "      <th>Tenure</th>\n",
              "      <td>17999</td>\n",
              "    </tr>\n",
              "    <tr>\n",
              "      <th>Dependents</th>\n",
              "      <td>17997</td>\n",
              "    </tr>\n",
              "    <tr>\n",
              "      <th>PhoneService</th>\n",
              "      <td>17904</td>\n",
              "    </tr>\n",
              "  </tbody>\n",
              "</table>\n",
              "</div><br><label><b>dtype:</b> int64</label>"
            ]
          },
          "metadata": {},
          "execution_count": 6
        }
      ]
    },
    {
      "cell_type": "markdown",
      "source": [
        "TotalCharges has missing values (after coercion). Other columns (Gender, SeniorCitizen, Partner, Dependents, Tenure, PhoneService, InternetService, MonthlyCharges, Timestamp) also contain missing data. Next, we will visualize relationships between features and churn.\n",
        "\n",
        "We will:\n",
        "1. Compare distributions of numerical features by churn status.\n",
        "2. Compare categorical features against churn."
      ],
      "metadata": {
        "id": "-VrGOlz2zIPz"
      }
    },
    {
      "cell_type": "code",
      "source": [
        "plt.figure(figsize=(10,5))\n",
        "sns.kdeplot(data=df, x='MonthlyCharges', hue='Churn', fill=True, common_norm=False)\n",
        "plt.title('Distribution of Monthly Charges by Churn Status')\n",
        "plt.show()"
      ],
      "metadata": {
        "colab": {
          "base_uri": "https://localhost:8080/",
          "height": 487
        },
        "id": "ReHM1P48w86t",
        "outputId": "1fd2aed3-7fba-4f8d-ddf7-97d4782b961a"
      },
      "execution_count": 7,
      "outputs": [
        {
          "output_type": "display_data",
          "data": {
            "text/plain": [
              "<Figure size 1000x500 with 1 Axes>"
            ],
            "image/png": "[encoded data removed]"
          },
          "metadata": {}
        }
      ]
    },
    {
      "cell_type": "code",
      "source": [
        "plt.figure(figsize=(8,5))\n",
        "sns.countplot(data=df, x='InternetService', hue='Churn')\n",
        "plt.title('Internet Service vs Churn')\n",
        "plt.xticks(rotation=15)\n",
        "plt.show()"
      ],
      "metadata": {
        "colab": {
          "base_uri": "https://localhost:8080/",
          "height": 505
        },
        "id": "dV5Z0JD5zs5E",
        "outputId": "ccb335dc-d1e0-4488-ad78-d1a5ca1a708b"
      },
      "execution_count": 8,
      "outputs": [
        {
          "output_type": "display_data",
          "data": {
            "text/plain": [
              "<Figure size 800x500 with 1 Axes>"
            ],
            "image/png": "[encoded data removed]"
          },
          "metadata": {}
        }
      ]
    },
    {
      "cell_type": "markdown",
      "source": [
        "Customers with higher monthly charges are more likely to churn (distribution shifts to the right for churned customers).\n",
        "1. Churn rates vary significantly by Internet Service type:\n",
        "2. Fiber optic users show higher churn compared to DSL and No internet service.\n",
        "3. Missing values are present in several columns (notably TotalCharges, Tenure, InternetService). Handling these carefully will be crucial in the preprocessing stage.\n",
        "\n",
        "These findings suggest that both service type and billing information strongly influence customer churn."
      ],
      "metadata": {
        "id": "161NeuTvz4Bi"
      }
    },
    {
      "cell_type": "code",
      "source": [
        "df['chargetotenureratio']=df['MonthlyCharges']/(df['Tenure']+1)\n",
        "df['isseniorwithwnternet'] = np.where((df['SeniorCitizen'] == 1) & (df['InternetService'] != 'No'), 1, 0)\n",
        "print(df[['Tenure','MonthlyCharges','chargetotenureratio','SeniorCitizen','InternetService','isseniorwithwnternet']].head(10))"
      ],
      "metadata": {
        "id": "Ncm_WLk-zxMG",
        "colab": {
          "base_uri": "https://localhost:8080/"
        },
        "outputId": "d50976c7-620c-49df-b377-ae1f2b0d77a8"
      },
      "execution_count": 9,
      "outputs": [
        {
          "output_type": "stream",
          "name": "stdout",
          "text": [
            "   Tenure  MonthlyCharges  chargetotenureratio  SeniorCitizen InternetService  \\\n",
            "0    26.0           70.32             2.604444            0.0     Fiber optic   \n",
            "1     NaN           47.88                  NaN            0.0     Fiber optic   \n",
            "2     NaN           99.91                  NaN            0.0             NaN   \n",
            "3    44.0           29.44             0.654222            NaN             DSL   \n",
            "4    29.0           78.82             2.627333            0.0     Fiber optic   \n",
            "5    51.0           67.69             1.301731            0.0     Fiber optic   \n",
            "6     NaN           29.10                  NaN            0.0             NaN   \n",
            "7    32.0           98.40             2.981818            0.0             DSL   \n",
            "8    15.0           48.37             3.023125            0.0             NaN   \n",
            "9     NaN           72.30                  NaN            0.0             DSL   \n",
            "\n",
            "   isseniorwithwnternet  \n",
            "0                     0  \n",
            "1                     0  \n",
            "2                     0  \n",
            "3                     0  \n",
            "4                     0  \n",
            "5                     0  \n",
            "6                     0  \n",
            "7                     0  \n",
            "8                     0  \n",
            "9                     0  \n"
          ]
        }
      ]
    },
    {
      "cell_type": "markdown",
      "source": [
        "1. ChargeToTenureRatio:\n",
        "- Combines billing (MonthlyCharges) and loyalty (Tenure).\n",
        "- Highlights customers who may be paying disproportionately more despite shorter tenure.\n",
        "- These customers are more likely to be dissatisfied and hence at risk of churn.\n",
        "\n",
        "\n",
        "2. IsSeniorWithInternet:\n",
        "- Seniors might have unique churn behavior, particularly if they use internet services.\n",
        "- This feature directly encodes the interaction between SeniorCitizen and InternetService.\n",
        "- Helps the model capture this nuanced group more explicitly.\n",
        "\n",
        "\n",
        "By introducing these two engineered features, we allow the model to learn interactions and ratios that raw columns may not reveal, potentially improving churn prediction accuracy."
      ],
      "metadata": {
        "id": "uExeIXuHSrj7"
      }
    },
    {
      "cell_type": "code",
      "source": [
        "from sklearn.pipeline import Pipeline\n",
        "from sklearn.compose import ColumnTransformer\n",
        "from sklearn.impute import SimpleImputer\n",
        "from sklearn.preprocessing import StandardScaler, OneHotEncoder\n",
        "from sklearn.linear_model import LogisticRegression\n",
        "from sklearn.model_selection import train_test_split"
      ],
      "metadata": {
        "id": "pvN7WHbtTD4F"
      },
      "execution_count": 10,
      "outputs": []
    },
    {
      "cell_type": "code",
      "source": [
        "X = df.drop(columns=[\"Churn\"])\n",
        "y = df[\"Churn\"].map({\"Yes\": 1, \"No\": 0})\n",
        "\n",
        "X_train, X_test, y_train, y_test = train_test_split(X, y, test_size=0.2, random_state=42, stratify=y)\n",
        "\n",
        "categorical_features = X_train.select_dtypes(include=[\"object\"]).columns.tolist()\n",
        "numerical_features = X_train.select_dtypes(include=[\"int64\", \"float64\"]).columns.tolist()\n",
        "\n",
        "numeric_transformer = Pipeline(steps=[(\"imputer\", SimpleImputer(strategy=\"median\")),(\"scaler\", StandardScaler())])\n",
        "categorical_transformer = Pipeline(steps=[(\"imputer\", SimpleImputer(strategy=\"most_frequent\")),(\"onehot\", OneHotEncoder(handle_unknown=\"ignore\"))])\n",
        "\n",
        "preprocessor = ColumnTransformer(transformers=[(\"num\", numeric_transformer, numerical_features),(\"cat\", categorical_transformer, categorical_features)])\n",
        "pipeline = Pipeline(steps=[(\"preprocessor\", preprocessor),(\"classifier\", LogisticRegression(max_iter=1000, random_state=42))])\n",
        "pipeline.fit(X_train, y_train)\n",
        "\n",
        "print(\"Pipeline training completed successfully!\")"
      ],
      "metadata": {
        "colab": {
          "base_uri": "https://localhost:8080/"
        },
        "id": "zBzb_zSvUAbi",
        "outputId": "77edb37e-7261-410e-8261-3f575b7e639d"
      },
      "execution_count": 11,
      "outputs": [
        {
          "output_type": "stream",
          "name": "stdout",
          "text": [
            "Pipeline training completed successfully!\n"
          ]
        }
      ]
    },
    {
      "cell_type": "markdown",
      "source": [
        "ColumnTransformer applies the right preprocessing to each feature type:\n",
        "\n",
        "Numerical - imputation (median) + scaling (StandardScaler).\n",
        "\n",
        "Categorical - imputation (most frequent) + OneHotEncoding (ignore unknowns).\n",
        "\n",
        "The pipeline ensures that raw input data goes through preprocessing automatically before feeding into the model.\n",
        "\n",
        "This approach avoids data leakage and guarantees reproducibility in training and testing.\n",
        "\n",
        "We chose Logistic Regression as the baseline classifier because it's interpretable and works well for binary classification problems like churn prediction."
      ],
      "metadata": {
        "id": "2aDYJOFGVTTn"
      }
    },
    {
      "cell_type": "code",
      "source": [
        "from sklearn.ensemble import RandomForestClassifier, GradientBoostingClassifier\n",
        "from sklearn.model_selection import GridSearchCV\n",
        "from sklearn.metrics import classification_report\n",
        "from sklearn.model_selection import RandomizedSearchCV\n",
        "from scipy.stats import randint"
      ],
      "metadata": {
        "id": "6k9gptw0V99g"
      },
      "execution_count": 14,
      "outputs": []
    },
    {
      "cell_type": "code",
      "source": [
        "models = {\"Logistic Regression\": LogisticRegression(max_iter=500, class_weight=\"balanced\"),\"Random Forest\": RandomForestClassifier(class_weight=\"balanced\", random_state=42),\"Gradient Boosting\": GradientBoostingClassifier(random_state=42)}\n",
        "\n",
        "print(\"Baseline Model Comparison\")\n",
        "for name, clf in models.items():\n",
        "    pipe = Pipeline(steps=[(\"preprocessor\", preprocessor), (\"classifier\", clf)])\n",
        "    pipe.fit(X_train, y_train)\n",
        "    y_pred = pipe.predict(X_test)\n",
        "    print(f\"\\n{name} Performance:\")\n",
        "    print(classification_report(y_test, y_pred, zero_division=0))\n",
        "\n",
        "rf_pipe = Pipeline(steps=[(\"preprocessor\", preprocessor),(\"classifier\", RandomForestClassifier(random_state=42, class_weight=\"balanced\"))])\n",
        "\n",
        "param_dist = {\"classifier__n_estimators\": randint(50, 150),\"classifier__max_depth\": [None, 5, 10],\"classifier__min_samples_split\": randint(2, 6)}\n",
        "random_search = RandomizedSearchCV(rf_pipe,param_distributions=param_dist,n_iter=10,cv=3,scoring=\"f1_weighted\",n_jobs=-1,verbose=2,random_state=42)\n",
        "random_search.fit(X_train, y_train)\n",
        "\n",
        "print(\"\\nBest Parameters:\", random_search.best_params_)\n",
        "print(\"Best CV Score (f1_weighted):\", random_search.best_score_)\n",
        "\n",
        "best_model = random_search.best_estimator_\n",
        "y_pred_test = best_model.predict(X_test)\n",
        "\n",
        "print(\"\\nFinal Tuned Model Performance on Test Set\")\n",
        "print(classification_report(y_test, y_pred_test, zero_division=0))"
      ],
      "metadata": {
        "colab": {
          "base_uri": "https://localhost:8080/"
        },
        "id": "nvVyADzMVQA7",
        "outputId": "b692c27e-4f40-4303-9c05-91858c1d38f6"
      },
      "execution_count": 15,
      "outputs": [
        {
          "output_type": "stream",
          "name": "stdout",
          "text": [
            "Baseline Model Comparison\n",
            "\n",
            "Logistic Regression Performance:\n",
            "              precision    recall  f1-score   support\n",
            "\n",
            "           0       0.74      0.86      0.80     14791\n",
            "           1       0.27      0.15      0.19      5209\n",
            "\n",
            "    accuracy                           0.67     20000\n",
            "   macro avg       0.50      0.50      0.49     20000\n",
            "weighted avg       0.62      0.67      0.64     20000\n",
            "\n",
            "\n",
            "Random Forest Performance:\n",
            "              precision    recall  f1-score   support\n",
            "\n",
            "           0       0.74      1.00      0.85     14791\n",
            "           1       0.44      0.00      0.00      5209\n",
            "\n",
            "    accuracy                           0.74     20000\n",
            "   macro avg       0.59      0.50      0.43     20000\n",
            "weighted avg       0.66      0.74      0.63     20000\n",
            "\n",
            "\n",
            "Gradient Boosting Performance:\n",
            "              precision    recall  f1-score   support\n",
            "\n",
            "           0       0.74      1.00      0.85     14791\n",
            "           1       0.20      0.00      0.00      5209\n",
            "\n",
            "    accuracy                           0.74     20000\n",
            "   macro avg       0.47      0.50      0.43     20000\n",
            "weighted avg       0.60      0.74      0.63     20000\n",
            "\n",
            "Fitting 3 folds for each of 10 candidates, totalling 30 fits\n",
            "\n",
            "Best Parameters: {'classifier__max_depth': 10, 'classifier__min_samples_split': 4, 'classifier__n_estimators': 124}\n",
            "Best CV Score (f1_weighted): 0.6308419480876515\n",
            "\n",
            "Final Tuned Model Performance on Test Set\n",
            "              precision    recall  f1-score   support\n",
            "\n",
            "           0       0.74      0.85      0.79     14791\n",
            "           1       0.25      0.14      0.18      5209\n",
            "\n",
            "    accuracy                           0.67     20000\n",
            "   macro avg       0.50      0.50      0.49     20000\n",
            "weighted avg       0.61      0.67      0.63     20000\n",
            "\n"
          ]
        }
      ]
    },
    {
      "cell_type": "markdown",
      "source": [
        "Step 1: Baseline Model Comparison\n",
        "\n",
        "- Trained three classifiers using the preprocessing pipeline:\n",
        "\n",
        "    1. Logistic Regression – fast, interpretable baseline.\n",
        "\n",
        "    2. Random Forest – handles non-linear relationships and feature interactions.\n",
        "\n",
        "    3. Gradient Boosting – strong performer for structured/tabular data.\n",
        "\n",
        "- Evaluated them on the test set using classification_report.\n",
        "\n",
        "Step 2: Hyperparameter Tuning\n",
        "\n",
        "- Selected Random Forest as the best candidate.\n",
        "\n",
        "- Used RandomizedSearchCV (faster than GridSearchCV) to tune hyperparameters.\n",
        "\n",
        "- Search space was limited to reduce runtime:\n",
        "\n",
        "   1. n_estimators: 50–150 (number of trees).\n",
        "\n",
        "   2. max_depth: [None, 5, 10] (tree depth).\n",
        "\n",
        "   3. min_samples_split: 2–6 (minimum samples to split).\n",
        "\n",
        "- Used f1_weighted as the scoring metric (better for imbalanced churn data).\n",
        "\n",
        "- Applied 3-fold cross-validation with n_iter=10 random combinations for efficiency.\n",
        "\n",
        "Step 3: Final Evaluation\n",
        "\n",
        "- Retrieved the best model from RandomizedSearchCV.\n",
        "\n",
        "- Evaluated it on the test set using classification_report."
      ],
      "metadata": {
        "id": "Kfva4lEZ086b"
      }
    },
    {
      "cell_type": "code",
      "source": [
        "from imblearn.over_sampling import SMOTE\n",
        "from imblearn.pipeline import Pipeline as ImbPipeline"
      ],
      "metadata": {
        "id": "UahXzqXkzvM-"
      },
      "execution_count": 16,
      "outputs": []
    },
    {
      "cell_type": "code",
      "source": [
        "baseline_model = best_model\n",
        "y_pred_baseline = baseline_model.predict(X_test)\n",
        "\n",
        "print(\"Baseline (No Resampling)\")\n",
        "print(classification_report(y_test, y_pred_baseline, zero_division=0))\n",
        "\n",
        "smote_rf_pipe = ImbPipeline(steps=[(\"preprocessor\", preprocessor),(\"smote\", SMOTE(random_state=42)),(\"classifier\", RandomForestClassifier(n_estimators=124, max_depth=10, min_samples_split=4, random_state=42, class_weight=None))])\n",
        "\n",
        "smote_rf_pipe.fit(X_train, y_train)\n",
        "y_pred_smote = smote_rf_pipe.predict(X_test)\n",
        "\n",
        "print(\"\\nWith SMOTE Oversampling\")\n",
        "print(classification_report(y_test, y_pred_smote, zero_division=0))"
      ],
      "metadata": {
        "colab": {
          "base_uri": "https://localhost:8080/"
        },
        "id": "X7E0NoTh3mLt",
        "outputId": "bc8858b6-71c3-4c26-bc8f-ac0effac03e0"
      },
      "execution_count": 17,
      "outputs": [
        {
          "output_type": "stream",
          "name": "stdout",
          "text": [
            "Baseline (No Resampling)\n",
            "              precision    recall  f1-score   support\n",
            "\n",
            "           0       0.74      0.85      0.79     14791\n",
            "           1       0.25      0.14      0.18      5209\n",
            "\n",
            "    accuracy                           0.67     20000\n",
            "   macro avg       0.50      0.50      0.49     20000\n",
            "weighted avg       0.61      0.67      0.63     20000\n",
            "\n",
            "\n",
            "With SMOTE Oversampling\n",
            "              precision    recall  f1-score   support\n",
            "\n",
            "           0       0.74      0.73      0.73     14791\n",
            "           1       0.26      0.28      0.27      5209\n",
            "\n",
            "    accuracy                           0.61     20000\n",
            "   macro avg       0.50      0.50      0.50     20000\n",
            "weighted avg       0.62      0.61      0.61     20000\n",
            "\n"
          ]
        }
      ]
    },
    {
      "cell_type": "markdown",
      "source": [
        "- Without SMOTE:\n",
        "\n",
        "   1. High recall for non-churners (class 0).\n",
        "\n",
        "   2. Very low recall for churners (class 1), model misses most of them.\n",
        "\n",
        "- With SMOTE:\n",
        "\n",
        "   1. Improved recall for churners (class 1).\n",
        "\n",
        "   2. Weighted f1-score may improve slightly or stay similar, but balance between classes is better.\n",
        "\n",
        "   3. This is expected since SMOTE generates synthetic churner samples, giving the model more examples to learn from."
      ],
      "metadata": {
        "id": "qszz-CXv4PVd"
      }
    },
    {
      "cell_type": "code",
      "source": [
        "from sklearn.metrics import precision_score, recall_score, f1_score, roc_auc_score, classification_report, confusion_matrix"
      ],
      "metadata": {
        "id": "d5pXAtRp4jHo"
      },
      "execution_count": 18,
      "outputs": []
    },
    {
      "cell_type": "code",
      "source": [
        "final_model = smote_rf_pipe\n",
        "y_pred_final = final_model.predict(X_test)\n",
        "y_pred_proba_final = final_model.predict_proba(X_test)[:, 1]\n",
        "\n",
        "precision = precision_score(y_test, y_pred_final)\n",
        "recall = recall_score(y_test, y_pred_final)\n",
        "f1 = f1_score(y_test, y_pred_final)\n",
        "roc_auc = roc_auc_score(y_test, y_pred_proba_final)\n",
        "\n",
        "print(\"Final Model Evaluation (With SMOTE)\")\n",
        "print(f\"Precision: {precision:.4f}\")\n",
        "print(f\"Recall:    {recall:.4f}\")\n",
        "print(f\"F1 Score:  {f1:.4f}\")\n",
        "print(f\"ROC AUC:   {roc_auc:.4f}\\n\")\n",
        "\n",
        "print(\"Classification Report:\")\n",
        "print(classification_report(y_test, y_pred_final, zero_division=0))\n",
        "\n",
        "cm = confusion_matrix(y_test, y_pred_final)\n",
        "plt.figure(figsize=(6,4))\n",
        "sns.heatmap(cm, annot=True, fmt=\"d\", cmap=\"Blues\", xticklabels=[\"No Churn\",\"Churn\"], yticklabels=[\"No Churn\",\"Churn\"])\n",
        "plt.xlabel(\"Predicted\")\n",
        "plt.ylabel(\"Actual\")\n",
        "plt.title(\"Confusion Matrix - Final Model\")\n",
        "plt.show()"
      ],
      "metadata": {
        "colab": {
          "base_uri": "https://localhost:8080/",
          "height": 688
        },
        "id": "nhR77P305H8O",
        "outputId": "7409bd93-8476-412f-b484-8ed1f4fa894b"
      },
      "execution_count": 19,
      "outputs": [
        {
          "output_type": "stream",
          "name": "stdout",
          "text": [
            "Final Model Evaluation (With SMOTE)\n",
            "Precision: 0.2650\n",
            "Recall:    0.2799\n",
            "F1 Score:  0.2722\n",
            "ROC AUC:   0.5049\n",
            "\n",
            "Classification Report:\n",
            "              precision    recall  f1-score   support\n",
            "\n",
            "           0       0.74      0.73      0.73     14791\n",
            "           1       0.26      0.28      0.27      5209\n",
            "\n",
            "    accuracy                           0.61     20000\n",
            "   macro avg       0.50      0.50      0.50     20000\n",
            "weighted avg       0.62      0.61      0.61     20000\n",
            "\n"
          ]
        },
        {
          "output_type": "display_data",
          "data": {
            "text/plain": [
              "<Figure size 600x400 with 2 Axes>"
            ],
            "image/png": "[encoded data removed]"
          },
          "metadata": {}
        }
      ]
    },
    {
      "cell_type": "markdown",
      "source": [
        "Confusion Matrix Analysis\n",
        "\n",
        "- True Negatives (TN): Correctly predicted non-churners.\n",
        "\n",
        "- True Positives (TP): Correctly predicted churners.\n",
        "\n",
        "- False Positives (FP): Predicted churn, but customer actually stayed.\n",
        "\n",
        "- False Negatives (FN): Predicted stay, but customer actually churned.\n",
        "\n",
        "- Business Cost:\n",
        "\n",
        "   - FP (False Positive): Wastes retention resources (e.g., giving discounts to customers who would have stayed anyway).\n",
        "\n",
        "   - FN (False Negative): More dangerous — you miss a churner, and the company loses a customer (lost revenue + higher cost of acquiring new ones).\n",
        "\n",
        "   - Conclusion: False Negatives are worse in churn prediction."
      ],
      "metadata": {
        "id": "x-4WYyVq5p8X"
      }
    },
    {
      "cell_type": "code",
      "source": [
        "ohe = final_model.named_steps[\"preprocessor\"].named_transformers_[\"cat\"].named_steps[\"onehot\"]\n",
        "categorical_cols = final_model.named_steps[\"preprocessor\"].transformers_[1][2]\n",
        "categorical_feature_names = ohe.get_feature_names_out(categorical_cols)\n",
        "\n",
        "numeric_feature_names = numerical_features\n",
        "all_feature_names = np.concatenate([numeric_feature_names, categorical_feature_names])\n",
        "\n",
        "importances = final_model.named_steps[\"classifier\"].feature_importances_\n",
        "feature_importance_df = pd.DataFrame({\"Feature\": all_feature_names, \"Importance\": importances})\n",
        "feature_importance_df = feature_importance_df.sort_values(by=\"Importance\", ascending=False).head(10)\n",
        "\n",
        "plt.figure(figsize=(8,5))\n",
        "sns.barplot(x=\"Importance\", y=\"Feature\", data=feature_importance_df, palette=\"viridis\")\n",
        "plt.title(\"Top 10 Feature Importances - Final Random Forest Model\")\n",
        "plt.show()"
      ],
      "metadata": {
        "colab": {
          "base_uri": "https://localhost:8080/",
          "height": 594
        },
        "id": "f2N-_CAy59pT",
        "outputId": "8de7addb-8435-436c-afb1-5a59505dfd46"
      },
      "execution_count": 20,
      "outputs": [
        {
          "output_type": "stream",
          "name": "stderr",
          "text": [
            "/tmp/ipython-input-2973166775.py:13: FutureWarning: \n",
            "\n",
            "Passing `palette` without assigning `hue` is deprecated and will be removed in v0.14.0. Assign the `y` variable to `hue` and set `legend=False` for the same effect.\n",
            "\n",
            "  sns.barplot(x=\"Importance\", y=\"Feature\", data=feature_importance_df, palette=\"viridis\")\n"
          ]
        },
        {
          "output_type": "display_data",
          "data": {
            "text/plain": [
              "<Figure size 800x500 with 1 Axes>"
            ],
            "image/png": "[encoded data removed]"
          },
          "metadata": {}
        }
      ]
    },
    {
      "cell_type": "markdown",
      "source": [
        "Interpretation of Features\n",
        "\n",
        "- The top features represent the strongest signals of churn.\n",
        "\n",
        "- Examples might include:\n",
        "\n",
        "   - Contract Type: Month-to-month contracts often lead to higher churn compared to long-term contracts.\n",
        "\n",
        "   - Monthly Charges: Higher monthly charges can cause dissatisfaction and churn.\n",
        "\n",
        "   - Tenure: Customers with short tenure are more likely to leave.\n",
        "\n",
        "   - Online Security/Tech Support: Customers without these services may feel less value and churn."
      ],
      "metadata": {
        "id": "CPS_AtQh6S8G"
      }
    }
  ]
}